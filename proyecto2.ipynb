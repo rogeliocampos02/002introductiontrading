{
 "cells": [
  {
   "cell_type": "markdown",
   "id": "9a198559",
   "metadata": {},
   "source": [
    "002 Introduction to Trading\n"
   ]
  },
  {
   "cell_type": "code",
   "execution_count": null,
   "id": "e25ff0dc",
   "metadata": {},
   "outputs": [],
   "source": []
  }
 ],
 "metadata": {
  "kernelspec": {
   "display_name": "venv (3.13.7)",
   "language": "python",
   "name": "python3"
  },
  "language_info": {
   "codemirror_mode": {
    "name": "ipython",
    "version": 3
   },
   "file_extension": ".py",
   "mimetype": "text/x-python",
   "name": "python",
   "nbconvert_exporter": "python",
   "pygments_lexer": "ipython3",
   "version": "3.13.7"
  }
 },
 "nbformat": 4,
 "nbformat_minor": 5
}
